{
 "cells": [
  {
   "cell_type": "markdown",
   "id": "45eb5b84",
   "metadata": {},
   "source": [
    "# Proyecto Integrador: Sistema de Gestión Escolar de Emergencia"
   ]
  },
  {
   "cell_type": "markdown",
   "id": "f6dbec7e",
   "metadata": {},
   "source": [
    "Este proyecto aplica las estructuras de datos aprendidas durante el curso: Pilas, Colas, Listas Simples y Dobles.\n",
    "\n",
    "\n",
    "Relizado por Erick Moreno"
   ]
  },
  {
   "cell_type": "markdown",
   "id": "7c39c980",
   "metadata": {},
   "source": [
    "## 1. Gestión de Reportes Médicos (PILAS)"
   ]
  },
  {
   "cell_type": "code",
   "execution_count": 6,
   "id": "6456c5ae",
   "metadata": {},
   "outputs": [
    {
     "name": "stdout",
     "output_type": "stream",
     "text": [
      "Reporte: Estudiante Ana - Fiebre\n",
      "Reporte: Estudiante Juan - Dolor de cabeza\n"
     ]
    }
   ],
   "source": [
    "\n",
    "class NodoPila:\n",
    "    def __init__(self, reporte):\n",
    "        self.reporte = reporte\n",
    "        self.siguiente = None\n",
    "\n",
    "class PilaReportes:\n",
    "    def __init__(self):\n",
    "        self.cima = None\n",
    "\n",
    "    def esta_vacia(self):\n",
    "        return self.cima is None\n",
    "\n",
    "    def apilar(self, reporte):\n",
    "        nuevo = NodoPila(reporte)\n",
    "        nuevo.siguiente = self.cima\n",
    "        self.cima = nuevo\n",
    "\n",
    "    def desapilar(self):\n",
    "        if self.esta_vacia():\n",
    "            print(\"Pila vacía\")\n",
    "            return None\n",
    "        reporte = self.cima.reporte\n",
    "        self.cima = self.cima.siguiente\n",
    "        return reporte\n",
    "\n",
    "    def mostrar(self):\n",
    "        actual = self.cima\n",
    "        while actual:\n",
    "            print(\"Reporte:\", actual.reporte)\n",
    "            actual = actual.siguiente\n",
    "\n",
    "# Ejemplo\n",
    "pila = PilaReportes()\n",
    "pila.apilar(\"Estudiante Juan - Dolor de cabeza\")\n",
    "pila.apilar(\"Estudiante Ana - Fiebre\")\n",
    "pila.mostrar()\n"
   ]
  },
  {
   "cell_type": "markdown",
   "id": "1bc6a7fe",
   "metadata": {},
   "source": [
    "## 2. Simulación de Evacuación Escolar (COLAS)"
   ]
  },
  {
   "cell_type": "code",
   "execution_count": 7,
   "id": "0a2a675d",
   "metadata": {},
   "outputs": [
    {
     "name": "stdout",
     "output_type": "stream",
     "text": [
      "Estudiante: Estudiante Luis\n",
      "Estudiante: Estudiante Marta\n"
     ]
    }
   ],
   "source": [
    "\n",
    "class NodoCola:\n",
    "    def __init__(self, estudiante):\n",
    "        self.estudiante = estudiante\n",
    "        self.siguiente = None\n",
    "\n",
    "class ColaEvacuacion:\n",
    "    def __init__(self):\n",
    "        self.frente = None\n",
    "        self.final = None\n",
    "\n",
    "    def esta_vacia(self):\n",
    "        return self.frente is None\n",
    "\n",
    "    def encolar(self, estudiante):\n",
    "        nuevo = NodoCola(estudiante)\n",
    "        if self.esta_vacia():\n",
    "            self.frente = self.final = nuevo\n",
    "        else:\n",
    "            self.final.siguiente = nuevo\n",
    "            self.final = nuevo\n",
    "\n",
    "    def desencolar(self):\n",
    "        if self.esta_vacia():\n",
    "            print(\"Cola vacía\")\n",
    "            return None\n",
    "        estudiante = self.frente.estudiante\n",
    "        self.frente = self.frente.siguiente\n",
    "        if self.frente is None:\n",
    "            self.final = None\n",
    "        return estudiante\n",
    "\n",
    "    def mostrar(self):\n",
    "        actual = self.frente\n",
    "        while actual:\n",
    "            print(\"Estudiante:\", actual.estudiante)\n",
    "            actual = actual.siguiente\n",
    "\n",
    "# Ejemplo\n",
    "cola = ColaEvacuacion()\n",
    "cola.encolar(\"Estudiante Luis\")\n",
    "cola.encolar(\"Estudiante Marta\")\n",
    "cola.mostrar()\n"
   ]
  },
  {
   "cell_type": "markdown",
   "id": "4f3017c2",
   "metadata": {},
   "source": [
    "## 3. Registro de Visitas al Departamento Médico (LISTAS DOBLES)"
   ]
  },
  {
   "cell_type": "code",
   "execution_count": 8,
   "id": "a4805cf3",
   "metadata": {},
   "outputs": [
    {
     "name": "stdout",
     "output_type": "stream",
     "text": [
      "Visita: Juan - 10:00 AM\n",
      "Visita: Ana - 10:30 AM\n"
     ]
    }
   ],
   "source": [
    "\n",
    "class NodoDoble:\n",
    "    def __init__(self, visita):\n",
    "        self.visita = visita\n",
    "        self.anterior = None\n",
    "        self.siguiente = None\n",
    "\n",
    "class ListaDobleVisitas:\n",
    "    def __init__(self):\n",
    "        self.inicio = None\n",
    "\n",
    "    def insertar(self, visita):\n",
    "        nuevo = NodoDoble(visita)\n",
    "        if self.inicio is None:\n",
    "            self.inicio = nuevo\n",
    "        else:\n",
    "            actual = self.inicio\n",
    "            while actual.siguiente:\n",
    "                actual = actual.siguiente\n",
    "            actual.siguiente = nuevo\n",
    "            nuevo.anterior = actual\n",
    "\n",
    "    def mostrar_adelante(self):\n",
    "        actual = self.inicio\n",
    "        while actual:\n",
    "            print(\"Visita:\", actual.visita)\n",
    "            actual = actual.siguiente\n",
    "\n",
    "    def mostrar_atras(self):\n",
    "        actual = self.inicio\n",
    "        if not actual:\n",
    "            return\n",
    "        while actual.siguiente:\n",
    "            actual = actual.siguiente\n",
    "        while actual:\n",
    "            print(\"Visita:\", actual.visita)\n",
    "            actual = actual.anterior\n",
    "\n",
    "# Ejemplo\n",
    "visitas = ListaDobleVisitas()\n",
    "visitas.insertar(\"Juan - 10:00 AM\")\n",
    "visitas.insertar(\"Ana - 10:30 AM\")\n",
    "visitas.mostrar_adelante()\n"
   ]
  },
  {
   "cell_type": "markdown",
   "id": "a605d1ee",
   "metadata": {},
   "source": [
    "## 4. Bitácora de Incidentes Escolares (LISTAS SIMPLES)"
   ]
  },
  {
   "cell_type": "code",
   "execution_count": 13,
   "id": "92e45008",
   "metadata": {},
   "outputs": [
    {
     "name": "stdout",
     "output_type": "stream",
     "text": [
      "Incidente: Robo de mochila en pasillo\n",
      "Incidente: Accidente en laboratorio\n"
     ]
    }
   ],
   "source": [
    "\n",
    "class NodoSimple:\n",
    "    def __init__(self, incidente):\n",
    "        self.incidente = incidente\n",
    "        self.siguiente = None\n",
    "\n",
    "class ListaBitacora:\n",
    "    def __init__(self):\n",
    "        self.inicio = None\n",
    "\n",
    "    def insertar(self, incidente):\n",
    "        nuevo = NodoSimple(incidente)\n",
    "        if not self.inicio:\n",
    "            self.inicio = nuevo\n",
    "        else:\n",
    "            actual = self.inicio\n",
    "            while actual.siguiente:\n",
    "                actual = actual.siguiente\n",
    "            actual.siguiente = nuevo\n",
    "\n",
    "    def buscar(self, palabra_clave):\n",
    "        actual = self.inicio\n",
    "        while actual:\n",
    "            if palabra_clave in actual.incidente:\n",
    "                print(\"Encontrado:\", actual.incidente)\n",
    "            actual = actual.siguiente\n",
    "\n",
    "    def eliminar(self, palabra_clave):\n",
    "        actual = self.inicio\n",
    "        anterior = None\n",
    "        while actual:\n",
    "            if palabra_clave in actual.incidente:\n",
    "                if anterior:\n",
    "                    anterior.siguiente = actual.siguiente\n",
    "                else:\n",
    "                    self.inicio = actual.siguiente\n",
    "                print(\"Eliminado:\", actual.incidente)\n",
    "                return\n",
    "            anterior = actual\n",
    "            actual = actual.siguiente\n",
    "\n",
    "    def mostrar(self):\n",
    "        actual = self.inicio\n",
    "        while actual:\n",
    "            print(\"Incidente:\", actual.incidente)\n",
    "            actual = actual.siguiente\n",
    "\n",
    "# Ejemplo\n",
    "bitacora = ListaBitacora()\n",
    "bitacora.insertar(\"Robo de mochila en pasillo\")\n",
    "bitacora.insertar(\"Accidente en laboratorio\")\n",
    "bitacora.mostrar()\n"
   ]
  },
  {
   "cell_type": "markdown",
   "id": "f5c69ead",
   "metadata": {},
   "source": [
    "## 5. Interfaz Textual de Usuario (MENÚ)"
   ]
  },
  {
   "cell_type": "code",
   "execution_count": 12,
   "id": "29f27a6a",
   "metadata": {},
   "outputs": [
    {
     "name": "stdout",
     "output_type": "stream",
     "text": [
      "==== Sistema de Gestión Escolar de Emergencia ====\n",
      "1. Reportes médicos (PILA)\n",
      "2. Evacuación (COLA)\n",
      "3. Visitas médicas (LISTA DOBLE)\n",
      "4. Bitácora de incidentes (LISTA SIMPLE)\n",
      "0. Salir\n"
     ]
    }
   ],
   "source": [
    "\n",
    "def menu():\n",
    "    print(\"==== Sistema de Gestión Escolar de Emergencia ====\")\n",
    "    print(\"1. Reportes médicos (PILA)\")\n",
    "    print(\"2. Evacuación (COLA)\")\n",
    "    print(\"3. Visitas médicas (LISTA DOBLE)\")\n",
    "    print(\"4. Bitácora de incidentes (LISTA SIMPLE)\")\n",
    "    print(\"0. Salir\")\n",
    "\n",
    "# Solo demostrativo, implementación completa depende del uso en consola\n",
    "menu()\n"
   ]
  }
 ],
 "metadata": {
  "kernelspec": {
   "display_name": "Python 3",
   "language": "python",
   "name": "python3"
  },
  "language_info": {
   "codemirror_mode": {
    "name": "ipython",
    "version": 3
   },
   "file_extension": ".py",
   "mimetype": "text/x-python",
   "name": "python",
   "nbconvert_exporter": "python",
   "pygments_lexer": "ipython3",
   "version": "3.13.1"
  }
 },
 "nbformat": 4,
 "nbformat_minor": 5
}
